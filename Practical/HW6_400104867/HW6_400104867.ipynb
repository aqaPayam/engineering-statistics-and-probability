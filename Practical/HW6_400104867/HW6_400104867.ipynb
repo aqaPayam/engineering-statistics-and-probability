{
 "cells": [
  {
   "cell_type": "markdown",
   "id": "JHMG689YMMEw",
   "metadata": {
    "id": "JHMG689YMMEw"
   },
   "source": [
    "<div style=\"direction:rtl;line-height:300%;\">\n",
    "\t<font face=\"XB Zar\" size=5>\n",
    "\t\t<div align=center style=\"margin-top: 100px;\">\n",
    "\t\t\t<font face=\"XB zar\" size=30>\n",
    "\t\t\t\t<p></p>\n",
    "به نام خدا\n",
    "\t\t\t\t<p></p>\n",
    "\t\t\t</font>\n",
    "<font color=blue>\n",
    "آمار و احتمال مهندسی\n",
    "            </font>\n",
    "            <br />\n",
    "\t\t\t<font color=#818181>\n",
    "دانشگاه صنعتی شریف - دانشکده مهندسی کامپیوتر\n",
    "            </font>\n",
    "\t\t\t<p></p>\n",
    "\n",
    "            پاییز 1401\n",
    "<p></p>\n",
    "            محمدپیام تائبی 400104867\n",
    "        </div>\n",
    "\t\t<hr/>\n",
    "\t\t<div align=center>\n",
    "\t\t    <font color=red size=6>\n",
    "\t\t\t    <br />\n",
    "تمرین عملی ششم\n",
    "     </font>\n",
    "                <br/>\n",
    "        </style>\n",
    "\t</font>\n",
    "</div>"
   ]
  },
  {
   "cell_type": "markdown",
   "id": "c7UpyZ0kM3bA",
   "metadata": {
    "id": "c7UpyZ0kM3bA"
   },
   "source": [
    "<div dir = \"rtl\" style=\"direction:rtl;line-height:250%;\">\n",
    "\t<font face=\"XB Zar\" size=5>\n",
    "\t\t<font color=#FF7500 size=6>\n",
    "            سوال اول\n",
    "        </font>\n",
    "        <hr/>\n",
    "        \n",
    "        \n",
    "</div>"
   ]
  },
  {
   "cell_type": "markdown",
   "id": "8dc1f5c1",
   "metadata": {
    "id": "8dc1f5c1"
   },
   "source": [
    "<div dir = \"rtl\" style=\"direction:rtl;line-height:300%;\">\n",
    "\t<font face=\"XB Zar\" size=5>\n",
    "        فرض کنید شما در کاشان در یک کارخانه گلاب گیری مشغول به کار هستید. دوست شما ویلیام گاست، مایل ها آنورتر در دوبلین مشغول کاری مشابه شماست منتها هنوز مقاله معروف خود یعنی student-t را منتشر نکرده است و شما اطلاعی از توزیع t ندارید.\n",
    "    </font>\n",
    "</div>"
   ]
  },
  {
   "cell_type": "markdown",
   "id": "ae0aac31",
   "metadata": {
    "id": "ae0aac31"
   },
   "source": [
    "<div dir = \"rtl\" style=\"direction:rtl;line-height:300%;\">\n",
    "\t<font face=\"XB Zar\" size=5>\n",
    "        فرض کنید مقدار گلابی که از یک گل محمدی استخراج میشود از توزیع نرمال با میانگین ۱۵۰ و انحراف معیار ۱۰ پیروی میکند. و گل های باغ شما تعداد زیادی گل محمدی دارد که هیچگاه تمام نمیشود.\n",
    "    </font>\n",
    "</div>"
   ]
  },
  {
   "cell_type": "markdown",
   "id": "62896121",
   "metadata": {
    "id": "62896121"
   },
   "source": [
    "<div dir = \"rtl\" style=\"direction:rtl;line-height:300%;\">\n",
    "\t<font face=\"XB Zar\" size=5>\n",
    "        شما که در آمار و احتمال دستی بر آتش دارید، با قضیه حد مرکزی آشنا هستید و می‌دانید که در صورتی که n عدد بزرگی باشد \n",
    "        و \n",
    "        $\\bar{X}_n = \\frac{\\sum_{i=1}^{n}X_i}{n}$\n",
    "        داریم:\n",
    "        $$\\frac{\\bar{X}_n - \\mu}{\\frac{\\sigma}{\\sqrt{n}}} \\sim Z$$\n",
    "        که در آن\n",
    "        $X_i$ها\n",
    "        مستقل و از توزیع یکسان با میانگین $\\mu$ و واریانس $\\sigma^2$ هستند.\n",
    "    </font>\n",
    "</div>"
   ]
  },
  {
   "cell_type": "markdown",
   "id": "8a0a1902",
   "metadata": {
    "id": "8a0a1902"
   },
   "source": [
    "<div dir = \"rtl\" style=\"direction:rtl;line-height:300%;\">\n",
    "\t<font face=\"XB Zar\" size=5>\n",
    "        شما کنجکاو میشوید که اگر نمونه ‌ای که از جامعه داریم محدود باشد (به هر حال همه که مانند شما چنین باغ بزرگی ندارند!) و واریانس جامعه را نداشته باشیم و به جای آن \n",
    "        از واریانس نمونه استفاده کنیم. چه اتفاقی خواهد افتاد؟ \n",
    "        <br>\n",
    "        به عبارتی اگر $x_i$ها\n",
    "        نمونه کوچک ما باشد و داشته باشیم: \n",
    "        $$\\overline{x} = \\frac{1}{n}\\sum_{i = 1}^n{x_i} \\quad \\quad\n",
    " s^2 = \\frac{\\sum_{i = 1}^n(x - \\overline{x})^2}{n - 1}$$\n",
    "        در آن صورت \n",
    "        $$t = \\frac{\\overline{x} - \\mu}{\\frac{s}{\\sqrt{n}}}$$\n",
    "         از چه توزیعی تبعیت خواهد کرد؟ \n",
    "         $$T_{(n-1)}$$\n",
    "         <br>\n",
    "                در نتیجه خودتان دست به کار میشوید تا با استفاده از شرایطی که برایتان مهیاست جواب سوالتان را پیدا کنید.\n",
    "    </font>\n",
    "</div>"
   ]
  },
  {
   "cell_type": "markdown",
   "id": "18e339fd",
   "metadata": {
    "id": "18e339fd"
   },
   "source": [
    "<div dir = \"rtl\" style=\"direction:rtl;line-height:300%;\">\n",
    "\t<font face=\"XB Zar\" size=5>\n",
    "        ابتدا در سلول زیر تابعی بنویسید که با ورودی گرفتن نمونه‌ها و میانگین جامعه مقدار t را محاسبه کند:\n",
    "    </font>\n",
    "</div>"
   ]
  },
  {
   "cell_type": "code",
   "execution_count": 85,
   "id": "5e077d91",
   "metadata": {
    "id": "5e077d91"
   },
   "outputs": [],
   "source": [
    "options(warn=-1)\n",
    "T_value <- function(data,mean){\n",
    "  n <-length(data)  \n",
    "  S <- sqrt(var(data))\n",
    "  return ( (mean(data) - mean) / (S/sqrt(n)))\n",
    "}"
   ]
  },
  {
   "cell_type": "markdown",
   "id": "47593d77",
   "metadata": {
    "id": "47593d77"
   },
   "source": [
    "<div dir = \"rtl\" style=\"direction:rtl;line-height:300%;\">\n",
    "\t<font face=\"XB Zar\" size=5>\n",
    "    حال شما برای اینکه توزیع t را بدست بیاورید\n",
    "      باید به دفعات متعددی از گل‌هایتان نمونه گیری انجام داده و مقادیر t آن ها را بدست بیاورید. \n",
    "        <br>\n",
    "        در سلول زیر تابعی بنویسید که که با گرفتن تعداد نمونه‌گیری‌ها و اندازه نمونه از گل های باغتان نمونه گیری انجام دهد و با استفاده از تابعی که در قسمت قبل نوشتید مقادیر t متناظر آنها را برگرداند. \n",
    "    </font>\n",
    "</div>"
   ]
  },
  {
   "cell_type": "code",
   "execution_count": 86,
   "id": "3f76e312",
   "metadata": {
    "id": "3f76e312"
   },
   "outputs": [],
   "source": [
    "tedadMoteaded <- 1000000\n",
    "allFlowers <- rnorm(tedadMoteaded,mean = 150,sd =10)\n",
    "\n",
    "getTvalues <- function(sampleSize,numberOfSample){\n",
    "    samples <- sapply(1:numberOfSample, function(i) sample(allFlowers, sampleSize))\n",
    "    return ( sapply(1:numberOfSample, function(i) T_value(samples[, i], mean(allFlowers)))  )\n",
    "}\n"
   ]
  },
  {
   "cell_type": "markdown",
   "id": "1f826396",
   "metadata": {
    "id": "1f826396"
   },
   "source": [
    "<div dir = \"rtl\" style=\"direction:rtl;line-height:300%;\">\n",
    "\t<font face=\"XB Zar\" size=5>\n",
    "    با استفاده از تابعی که نوشتید به تعداد ۱۰۰۰۰ بار و با اندازه ۲ نمونه گیری کنید و نتیجه را در قالب یک نمودار نمایش دهید.\n",
    "        <br>\n",
    "        برای اینکه بازه نمایش را محدود کنید میتوانید از\n",
    "        <a href = \"https://ggplot2.tidyverse.org/reference/lims.html\">xlim</a> \n",
    "        استفاده کنید.\n",
    "    </font>\n",
    "</div>"
   ]
  },
  {
   "cell_type": "code",
   "execution_count": 87,
   "id": "22edc521",
   "metadata": {
    "id": "22edc521",
    "outputId": "b7b2de05-9400-4f19-c1f6-6b8c501c6ad3"
   },
   "outputs": [
    {
     "data": {
      "image/png": "[encoded data removed]",
      "text/plain": [
       "plot without title"
      ]
     },
     "metadata": {
      "image/png": {
       "height": 420,
       "width": 420
      }
     },
     "output_type": "display_data"
    }
   ],
   "source": [
    "library(ggplot2)\n",
    "Tsample <- getTvalues(2,10000)\n",
    "ggplot() + geom_density(aes(Tsample),col = \"darkgreen\" , linewidth=2  ) + xlim(-4,4)"
   ]
  },
  {
   "cell_type": "markdown",
   "id": "18295c27",
   "metadata": {
    "id": "18295c27"
   },
   "source": [
    "<div dir = \"rtl\" style=\"direction:rtl;line-height:300%;\">\n",
    "\t<font face=\"XB Zar\" size=5>\n",
    "       بعد از کشیدن نمودار و مشاهده آن به شباهتش با توزیع نورمال استاندارد پی می‌برید و خوشحال میشوید که CLT برای این شرایط نیز صادق است و به یک تعمیم برای قضیه حد مرکزی دست یافته‌اید!\n",
    "        <br>\n",
    "        اما وقتی بیشتر دقت میکنید حس می‌کنید یک جای این نمودار میلنگد\n",
    "        <img src=\"https://wompampsupport.azureedge.net/fetchimage?siteId=7575&v=2&jpgQuality=100&width=500&url=https%3A%2F%2Fi.kym-cdn.com%2Fentries%2Ficons%2Fmobile%2F000%2F031%2F260%2FScreen_Shot_2019-09-24_at_4.22.16_PM.jpg\">\n",
    "        <br>\n",
    "        در نتیجه نمودار قبل را در کنار نمودار توزیع نرمال استاندارد رسم میکنیم:\n",
    "    </font>\n",
    "</div>"
   ]
  },
  {
   "cell_type": "code",
   "execution_count": 94,
   "id": "b5323071",
   "metadata": {
    "id": "b5323071",
    "outputId": "6a40ea70-cb16-43b9-9cbd-8eacca627a54"
   },
   "outputs": [
    {
     "data": {
      "image/png": "[encoded data removed]",
      "text/plain": [
       "plot without title"
      ]
     },
     "metadata": {
      "image/png": {
       "height": 420,
       "width": 420
      }
     },
     "output_type": "display_data"
    }
   ],
   "source": [
    "Nsample <-rnorm(10000)\n",
    "ggplot() +\n",
    "geom_density(aes(Tsample),col = \"darkgreen\" , linewidth=2  ) +\n",
    "geom_density(aes(Nsample),col = \"blue\" , linewidth=2  ) +\n",
    "xlim(-4,4)"
   ]
  },
  {
   "cell_type": "markdown",
   "id": "a3606c52",
   "metadata": {
    "id": "a3606c52"
   },
   "source": [
    "<div dir = \"rtl\" style=\"direction:rtl;line-height:300%;\">\n",
    "\t<font face=\"XB Zar\" size=5>\n",
    "        دو نمودار را با هم مقایسه کنید. چه تفاوتی میان آنها وجود دارد؟\n",
    "    </font>\n",
    "</div>"
   ]
  },
  {
   "cell_type": "markdown",
   "id": "16c59d08",
   "metadata": {
    "id": "a3606c52"
   },
   "source": [
    "<div dir = \"rtl\" style=\"direction:rtl;line-height:300%;\">\n",
    "\t<font face=\"XB Zar\" size=5 color=\"blue\">\n",
    "        قله ی توزیع نرمال بالاتر از توزیع T است و از طرفی واریانس نرمال کمتر است و اطلاعات حول مرکز تجمع بیشتری دارند\n",
    "    </font>\n",
    "</div>"
   ]
  },
  {
   "cell_type": "markdown",
   "id": "e9c36dcf",
   "metadata": {
    "id": "e9c36dcf"
   },
   "source": [
    "<div dir = \"rtl\" style=\"direction:rtl;line-height:300%;\">\n",
    "\t<font face=\"XB Zar\" size=5>\n",
    "        متاسفانه این دونمودار با وجود شباهت زیادی که به هم دارند از توزیع های متفاوتی می‌آیند!\n",
    "        <br>\n",
    "        شما نسبت به توزیعی که بدست آوردید کنجکاوتر شده و سعی میکنید آن را به ازای اندازه نمونه‌های مختلف بررسی کنید.\n",
    "    </font>\n",
    "</div>"
   ]
  },
  {
   "cell_type": "markdown",
   "id": "bcb6fbef",
   "metadata": {
    "id": "bcb6fbef"
   },
   "source": [
    "<div dir = \"rtl\" style=\"direction:rtl;line-height:300%;\">\n",
    "\t<font face=\"XB Zar\" size=5>\n",
    "        به ازای اندازه نمونه های\n",
    "        $n = 2, n = 3, n = 6, n = 100$\n",
    "        مانند قبل نمونه گیری های ۱۰۰۰۰ تایی انجام داده و آن ها را داخل یک dataframe ذخیره کنید.\n",
    "        همچنین یک ستون نیز برای توزیع نرمال استاندارد به دیتافریم اضافه کنید.\n",
    "        <br>\n",
    "        سپس در یک نمودار، توزیع های مربوط به هر یک از n های مختلف و توزیع استاندارد نرمال را رسم کرده و به هر یک از نمودار ها، یک رنگ جدا اختصاص دهید به طوری که از همدیگر قابل تمیز باشند.\n",
    "        <br>\n",
    "        راهنمایی: در رابطه با تابع melt\n",
    "        از پکیج reshape2 تحقیق کنید.\n",
    "    </font>\n",
    "</div>"
   ]
  },
  {
   "cell_type": "code",
   "execution_count": 103,
   "id": "2b5b36a9",
   "metadata": {
    "id": "2b5b36a9",
    "outputId": "b6eecb6f-2b64-4de8-88c3-409257c2458a"
   },
   "outputs": [
    {
     "name": "stderr",
     "output_type": "stream",
     "text": [
      "Using  as id variables\n",
      "\n"
     ]
    },
    {
     "data": {
      "image/png": "[encoded data removed]",
      "text/plain": [
       "plot without title"
      ]
     },
     "metadata": {
      "image/png": {
       "height": 420,
       "width": 420
      }
     },
     "output_type": "display_data"
    }
   ],
   "source": [
    "library(reshape)\n",
    "\n",
    "df <- data.frame(\n",
    "  T2 = getTvalues(2,10000),\n",
    "  T3 = getTvalues(3,10000),\n",
    "  T6 = getTvalues(6,10000),\n",
    "  T100 = getTvalues(100,10000),\n",
    "  N = rnorm(10000)\n",
    "  )\n",
    "\n",
    "df <- melt(df)\n",
    "\n",
    "ggplot(df) +\n",
    "geom_density(aes(value,color=variable),size=2)+\n",
    "xlim(-5,5)"
   ]
  },
  {
   "cell_type": "markdown",
   "id": "29f54530",
   "metadata": {
    "id": "29f54530"
   },
   "source": [
    "<div dir = \"rtl\" style=\"direction:rtl;line-height:300%;\">\n",
    "\t<font face=\"XB Zar\" size=5>\n",
    "        از نموداری که رسم کردید و مقایسه توزیع ها چه نتیجه‌ای میگیرید؟\n",
    "    </font>\n",
    "</div>"
   ]
  },
  {
   "cell_type": "markdown",
   "id": "55ed34a3",
   "metadata": {
    "id": "a3606c52"
   },
   "source": [
    "<div dir = \"rtl\" style=\"direction:rtl;line-height:300%;\">\n",
    "\t<font face=\"XB Zar\" size=5 color=\"blue\">\n",
    "        هرچه تعداد نمونه ها بیشتر شود توزیع به نرمال نزدیک تر میشود\n",
    "    </font>\n",
    "</div>"
   ]
  },
  {
   "cell_type": "markdown",
   "id": "e6430021",
   "metadata": {
    "id": "e6430021"
   },
   "source": [
    "<div dir = \"rtl\" style=\"direction:rtl;line-height:300%;\">\n",
    "\t<font face=\"XB Zar\" size=5>\n",
    "        روزی دوست شما، ویلیام گاست به کاشان می‌آید. شما با او در رابطه با توزیع جدیدی که کشف کردید صحبت میکنید.\n",
    "        او می‌گوید که  اتفاقا درباره این توزیع مقاله ‌ای چاپ کرده و توابع مربوط به این توزیع را به کتابخانه پایه R اضافه کرده است.\n",
    "        او همچنین میگوید که این توزیع شامل پارامتری به نام درجه آزادی یا \n",
    "        $\\nu$\n",
    "        می‌باشد\n",
    "        که در اینجا برابر با\n",
    "        $n-1$\n",
    "        است.\n",
    "        <br>\n",
    "        با استفاده از دیتافریمی که  ساختید توزیع  مربوط به \n",
    "        $n = 2$\n",
    "        و توزیع t متناظر با آن در R را\n",
    "        در یک نمودار رسم کنید و آن دو را با هم مقایسه کنید.     \n",
    "        آیا اکنون بنظر شما این دو توزیع یکسانند؟\n",
    "    </font>\n",
    "</div>"
   ]
  },
  {
   "cell_type": "markdown",
   "id": "3e804452",
   "metadata": {
    "id": "3e804452"
   },
   "source": [
    "<div dir = \"rtl\" style=\"direction:rtl;line-height:300%;\">\n",
    "\t<font face=\"XB Zar\" size=5 color=\"blue\">\n",
    "      طبق نمودار رسم شده به شدت به هم نزدیک هستند\n",
    "    </font>\n",
    "</div>"
   ]
  },
  {
   "cell_type": "code",
   "execution_count": 104,
   "id": "98ee7f37",
   "metadata": {
    "id": "98ee7f37",
    "outputId": "614f01ed-acb3-4582-ac73-7eb55616b5d4"
   },
   "outputs": [
    {
     "name": "stderr",
     "output_type": "stream",
     "text": [
      "Using  as id variables\n",
      "\n"
     ]
    },
    {
     "data": {
      "image/png": "[encoded data removed]",
      "text/plain": [
       "plot without title"
      ]
     },
     "metadata": {
      "image/png": {
       "height": 420,
       "width": 420
      }
     },
     "output_type": "display_data"
    }
   ],
   "source": [
    "df <- data.frame(\n",
    "  T100 = getTvalues(2,10000),\n",
    "  TrelSample = rt(10000,1)\n",
    "  )\n",
    "\n",
    "df <- melt(df)\n",
    "\n",
    "ggplot(df) +\n",
    "geom_density(aes(value,color=variable),size=2)+\n",
    "xlim(-5,5)"
   ]
  },
  {
   "cell_type": "markdown",
   "id": "3054f7f4",
   "metadata": {
    "id": "3054f7f4"
   },
   "source": [
    "<div dir = \"rtl\" style=\"direction:rtl;line-height:300%;\">\n",
    "\t<font face=\"XB Zar\" size=5>\n",
    "         فرض کنید کسی به شما ۶ عدد گل محمدی میدهد و ادعا میکند که از باغ شما چیده است. شما به او شک می‌کنید و فرآیند گلاب‌گیری را روی آنها انجام داده و مقادیر گلاب بدست آماده از آنها برابر \n",
    "        ۱۳۰, ۱۲۰, ۱۳۶, ۱۴۵, ۱۵۰, ۱۴۰ میلی‌لیتر شده است.\n",
    "        آیا بنظر شما او راست می‌گوید؟\n",
    "    </font>\n",
    "</div>"
   ]
  },
  {
   "cell_type": "markdown",
   "id": "b0972a75",
   "metadata": {
    "id": "b0972a75"
   },
   "source": [
    "<div dir = \"rtl\" style=\"direction:rtl;line-height:300%;\">\n",
    "\t<font face=\"XB Zar\" size=5 color=\"blue\">\n",
    "       طبق تی تست فرض صفر رد میشود یعنی گل ها برای این باغ نیست\n",
    "    </font>\n",
    "</div>"
   ]
  },
  {
   "cell_type": "markdown",
   "id": "bb7d3299",
   "metadata": {
    "id": "bb7d3299"
   },
   "source": [
    "<div dir = \"rtl\" style=\"direction:rtl;line-height:300%;\">\n",
    "\t<font face=\"XB Zar\" size=5>\n",
    "        فرض صفر و فرض جایگزین را در این مورد بیان کنید\n",
    "    </font>\n",
    "</div>"
   ]
  },
  {
   "cell_type": "markdown",
   "id": "0eda0937",
   "metadata": {
    "id": "0eda0937"
   },
   "source": [
    "<div dir = \"rtl\" style=\"direction:rtl;line-height:300%;\">\n",
    "\t<font face=\"XB Zar\" size=5 color=\"blue\">\n",
    "        H0: گل ها از باغ ما چیده شده است\n",
    "        H1: گلها متعلق به باغ ما نیست\n",
    "    </font>\n",
    "</div>"
   ]
  },
  {
   "cell_type": "markdown",
   "id": "aea4bd59",
   "metadata": {
    "id": "aea4bd59"
   },
   "source": [
    "<div dir = \"rtl\" style=\"direction:rtl;line-height:300%;\">\n",
    "\t<font face=\"XB Zar\" size=5>\n",
    "        مقدار p-value\n",
    "        را یکبار با استفاده از دیتافریمی که دارید و یکبار با استفاده از توابع کتابخانه‌ای R بدست آورید و آن دو را با هم مقایسه کنید.\n",
    "    </font>\n",
    "</div>"
   ]
  },
  {
   "cell_type": "code",
   "execution_count": 107,
   "id": "39657db2",
   "metadata": {
    "id": "39657db2",
    "outputId": "e9ecd5fc-dbb9-4596-df18-ab7fde3f0168"
   },
   "outputs": [
    {
     "data": {
      "text/html": [
       "0.0304139830113665"
      ],
      "text/latex": [
       "0.0304139830113665"
      ],
      "text/markdown": [
       "0.0304139830113665"
      ],
      "text/plain": [
       "[1] 0.03041398"
      ]
     },
     "metadata": {},
     "output_type": "display_data"
    },
    {
     "data": {
      "text/html": [
       "0.0307"
      ],
      "text/latex": [
       "0.0307"
      ],
      "text/markdown": [
       "0.0307"
      ],
      "text/plain": [
       "[1] 0.0307"
      ]
     },
     "metadata": {},
     "output_type": "display_data"
    }
   ],
   "source": [
    "t <- T_value(c(130,120,136,145,150,140), mean(allFlowers))\n",
    "p_value <- 2*pt(t,df=5)  #2 tarafe ast bayad dar 2 zarb she\n",
    "p_value\n",
    "\n",
    "\n",
    "T6 = getTvalues(6,10000)\n",
    "cnt <- 0\n",
    "for(i in 1:10000){\n",
    "  if(T6[i]<=t || T6[i]>=-t)\n",
    "    cnt <- cnt +1\n",
    "}\n",
    "my_p<-cnt/length(T6)\n",
    "my_p\n",
    "\n",
    "#both p_value is lower than 0.05 so we can reject H0 "
   ]
  },
  {
   "cell_type": "markdown",
   "id": "GH7KXZaFNNme",
   "metadata": {
    "id": "GH7KXZaFNNme"
   },
   "source": [
    "<div dir = \"rtl\" style=\"direction:rtl;line-height:250%;\">\n",
    "\t<font face=\"XB Zar\" size=5>\n",
    "\t\t<font color=#FF7500 size=6>\n",
    "            سوال دوم\n",
    "        </font>\n",
    "        <hr/>\n",
    "\n",
    "        \n",
    "</div>"
   ]
  },
  {
   "cell_type": "markdown",
   "id": "uO2RZ1bfm7Uo",
   "metadata": {
    "id": "uO2RZ1bfm7Uo"
   },
   "source": [
    "<div dir = \"rtl\" style=\"direction:rtl;line-height:300%;\">\n",
    "\t<font face=\"XB Zar\" size=5>\n",
    "یک کمپانی سازنده توپ گلف تصمیم دارد که مقاومت توپ های خود را افزایش دهد. برای  \n",
    "این کار لایه‌ای بر توپ های خود می‌افزاید. تست مقاومت برای توپ های جدید رضایت‌بخش است و توپ های جدید مقاومت بیشتری نسبت به توپ های قبلی دارند ولی قبل از تولید انبوه یکی از محققان این شرکت ادعا میکند که توپ های جدید نسبت به توپ های قبلی مسافت کوتاه تری را می‌پیمایند. برای این کار او در 40 بار در شرایط مختلف توپ ها را با دستگاهی پرتاب کرد تا تنها عامل تفاوت بین دو پرتاب نوع توپ ها باشند. این محقق برای اثبات ادعایش با استفاده از تست جایگشتی از شما کمک خواسته برای این کار ابتدا مجموعه دادگان شامل عملکرد توپ های فعلی و جدید را از روی فایلGolf.csv بخوانید:   \n",
    "    </font>\n",
    "</div>"
   ]
  },
  {
   "cell_type": "code",
   "execution_count": 43,
   "id": "epujknYiOarM",
   "metadata": {
    "id": "epujknYiOarM"
   },
   "outputs": [
    {
     "data": {
      "text/html": [
       "<table class=\"dataframe\">\n",
       "<caption>A data.frame: 6 × 2</caption>\n",
       "<thead>\n",
       "\t<tr><th></th><th scope=col>Current</th><th scope=col>New</th></tr>\n",
       "\t<tr><th></th><th scope=col>&lt;int&gt;</th><th scope=col>&lt;int&gt;</th></tr>\n",
       "</thead>\n",
       "<tbody>\n",
       "\t<tr><th scope=row>1</th><td>264</td><td>277</td></tr>\n",
       "\t<tr><th scope=row>2</th><td>261</td><td>269</td></tr>\n",
       "\t<tr><th scope=row>3</th><td>267</td><td>263</td></tr>\n",
       "\t<tr><th scope=row>4</th><td>272</td><td>266</td></tr>\n",
       "\t<tr><th scope=row>5</th><td>258</td><td>262</td></tr>\n",
       "\t<tr><th scope=row>6</th><td>283</td><td>251</td></tr>\n",
       "</tbody>\n",
       "</table>\n"
      ],
      "text/latex": [
       "A data.frame: 6 × 2\n",
       "\\begin{tabular}{r|ll}\n",
       "  & Current & New\\\\\n",
       "  & <int> & <int>\\\\\n",
       "\\hline\n",
       "\t1 & 264 & 277\\\\\n",
       "\t2 & 261 & 269\\\\\n",
       "\t3 & 267 & 263\\\\\n",
       "\t4 & 272 & 266\\\\\n",
       "\t5 & 258 & 262\\\\\n",
       "\t6 & 283 & 251\\\\\n",
       "\\end{tabular}\n"
      ],
      "text/markdown": [
       "\n",
       "A data.frame: 6 × 2\n",
       "\n",
       "| <!--/--> | Current &lt;int&gt; | New &lt;int&gt; |\n",
       "|---|---|---|\n",
       "| 1 | 264 | 277 |\n",
       "| 2 | 261 | 269 |\n",
       "| 3 | 267 | 263 |\n",
       "| 4 | 272 | 266 |\n",
       "| 5 | 258 | 262 |\n",
       "| 6 | 283 | 251 |\n",
       "\n"
      ],
      "text/plain": [
       "  Current New\n",
       "1 264     277\n",
       "2 261     269\n",
       "3 267     263\n",
       "4 272     266\n",
       "5 258     262\n",
       "6 283     251"
      ]
     },
     "metadata": {},
     "output_type": "display_data"
    }
   ],
   "source": [
    "balls <- read.csv(file.choose())\n",
    "head(balls)"
   ]
  },
  {
   "cell_type": "markdown",
   "id": "38fFdWkAqWxJ",
   "metadata": {
    "id": "38fFdWkAqWxJ"
   },
   "source": [
    "<div dir = \"rtl\" style=\"direction:rtl;line-height:300%;\">\n",
    "\t<font face=\"XB Zar\" size=5>\n",
    "ستون اول دادگان شامل عملکرد توپ های فعلی و ستون دوم آن شامل عملکرد متناظر توپ های جدید می‌باشد. تفاوت میانگین دو عملکرد را برای دو نوع توپ محاسبه کنید.\n",
    "    </font>\n",
    "</div> "
   ]
  },
  {
   "cell_type": "code",
   "execution_count": 111,
   "id": "k2A5_N0NXngk",
   "metadata": {
    "colab": {
     "base_uri": "https://localhost:8080/",
     "height": 34
    },
    "id": "k2A5_N0NXngk",
    "outputId": "0263b5d3-790d-4211-f508-3148e1aa5ec0"
   },
   "outputs": [
    {
     "data": {
      "text/html": [
       "2.77499999999998"
      ],
      "text/latex": [
       "2.77499999999998"
      ],
      "text/markdown": [
       "2.77499999999998"
      ],
      "text/plain": [
       "[1] 2.775"
      ]
     },
     "metadata": {},
     "output_type": "display_data"
    }
   ],
   "source": [
    "diffrenceBalls <- abs(mean(balls$Current)-mean(balls$New))\n",
    "diffrenceBalls"
   ]
  },
  {
   "cell_type": "markdown",
   "id": "m_xz70kprMCR",
   "metadata": {
    "id": "m_xz70kprMCR"
   },
   "source": [
    "<div dir = \"rtl\" style=\"direction:rtl;line-height:300%;\">\n",
    "\t<font face=\"XB Zar\" size=5>\n",
    "تفاوت میانگین را برای جایشگت های مختلف داده محاسبه کنید و در نهایت با استفاده از هیستوگرام مکان داده مشاهده شده را معین کنید.\n",
    "    </font>\n",
    "</div>"
   ]
  },
  {
   "cell_type": "code",
   "execution_count": 112,
   "id": "so1OWXavYXpo",
   "metadata": {
    "id": "so1OWXavYXpo"
   },
   "outputs": [],
   "source": [
    "numberOFRandomize <-100000\n",
    "all <- c(balls$Current,balls$New)\n",
    "df <-0\n",
    "for(i in 1:numberOFRandomize){\n",
    "    new <- sample(all,80,replace = FALSE)\n",
    "    df[i] <- mean(new[1:40]) - mean(new[41:80])\n",
    "}"
   ]
  },
  {
   "cell_type": "code",
   "execution_count": 113,
   "id": "Vp5XKYl0fYgN",
   "metadata": {
    "colab": {
     "base_uri": "https://localhost:8080/",
     "height": 437
    },
    "id": "Vp5XKYl0fYgN",
    "outputId": "3d0fd874-67a2-4a17-c369-a96ad6f56b36"
   },
   "outputs": [
    {
     "data": {
      "image/png": "[encoded data removed]",
      "text/plain": [
       "plot without title"
      ]
     },
     "metadata": {
      "image/png": {
       "height": 420,
       "width": 420
      }
     },
     "output_type": "display_data"
    }
   ],
   "source": [
    "library(ggplot2)\n",
    "ggplot() +\n",
    "  geom_histogram(aes(df),bins = 30, fill='red',col=\"black\") +\n",
    "  geom_vline(xintercept=diffrenceBalls, color='blue', size=1) +\n",
    " geom_vline(xintercept=-diffrenceBalls, color='blue', size=1)\n"
   ]
  },
  {
   "cell_type": "markdown",
   "id": "FKo_Cfxora6X",
   "metadata": {
    "id": "FKo_Cfxora6X"
   },
   "source": [
    "<div dir = \"rtl\" style=\"direction:rtl;line-height:300%;\">\n",
    "\t<font face=\"XB Zar\" size=5>\n",
    "p-value را محاسبه کنید، آیا فرض صفر رد می شود؟\n",
    "    </font>\n",
    "</div>"
   ]
  },
  {
   "cell_type": "markdown",
   "id": "6f5ba6ea",
   "metadata": {
    "id": "b0972a75"
   },
   "source": [
    "<div dir = \"rtl\" style=\"direction:rtl;line-height:300%;\">\n",
    "\t<font face=\"XB Zar\" size=5 color=\"blue\">\n",
    "       p value is greater than 0.05 so we can not reject H0\n",
    "    </font>\n",
    "</div>"
   ]
  },
  {
   "cell_type": "code",
   "execution_count": 114,
   "id": "gj0ealbLjFuD",
   "metadata": {
    "colab": {
     "base_uri": "https://localhost:8080/",
     "height": 34
    },
    "id": "gj0ealbLjFuD",
    "outputId": "e7656ec0-691c-49d3-c4ac-a2dee0a08ac9"
   },
   "outputs": [
    {
     "data": {
      "text/html": [
       "0.19185"
      ],
      "text/latex": [
       "0.19185"
      ],
      "text/markdown": [
       "0.19185"
      ],
      "text/plain": [
       "[1] 0.19185"
      ]
     },
     "metadata": {},
     "output_type": "display_data"
    }
   ],
   "source": [
    "pValue = (length( df[df >= diffrenceBalls]) + length(df[df <= -diffrenceBalls])) / length(df)\n",
    "pValue"
   ]
  },
  {
   "cell_type": "markdown",
   "id": "QcXFwlljsq2Y",
   "metadata": {
    "id": "QcXFwlljsq2Y"
   },
   "source": [
    "<div dir = \"rtl\" style=\"direction:rtl;line-height:300%;\">\n",
    "\t<font face=\"XB Zar\" size=5>\n",
    "پس از انجام آزمایش او به قدرت تست جایگشتی در مسئله شرکت توپ گلف سازی شک کرد و \n",
    "تصمیم گرفت با انجام آزمایش هایی کارایی آن برای مسئله فعلی را مورد جدال قرار دهد! برای این کار او قصد دارد 1000 بار آزمون جایگشتی را برای دو دسته داده که هر دو از توزیع نرمال با میانگین صفر ولی انحراف معیار های متفاوت 1 و 2 آمده‌اند اجرا کند و p-value های به دست آمده را بررسی کند. ابتدا به مدت 1000 مرتبه تست جایگشتی را روی دو دسته با اندازه 10 و 20 اجرا کنید.\n",
    "    </font>\n",
    "</div>"
   ]
  },
  {
   "cell_type": "code",
   "execution_count": 135,
   "id": "D6iC8QmimjlA",
   "metadata": {
    "id": "D6iC8QmimjlA"
   },
   "outputs": [
    {
     "data": {
      "image/png": "[encoded data removed]",
      "text/plain": [
       "Plot with title \"Histogram of pvalues\""
      ]
     },
     "metadata": {
      "image/png": {
       "height": 420,
       "width": 420
      }
     },
     "output_type": "display_data"
    }
   ],
   "source": [
    "n1 <- rnorm(10,mean=0,sd=1)\n",
    "n2 <- rnorm(20,mean=0,sd=2)\n",
    "realDif <- abs(mean(n1)-mean(n2))\n",
    "pvalues <- 0\n",
    "\n",
    "for(j in 1:1000){\n",
    "df <- 0\n",
    "for(i in 1:1000){\n",
    "    new <- sample(all,30,replace = FALSE)\n",
    "    df[i] <- mean(new[1:10]) - mean(new[11:30])\n",
    "}\n",
    "    \n",
    "pvalues[j]  = (length( df[df >= realDif]) + length(df[df <= -realDif])) / length(df)   \n",
    "}\n",
    "hist(pvalues,breaks = 50 , col=\"blue\")"
   ]
  },
  {
   "cell_type": "markdown",
   "id": "7UCm04bExIcX",
   "metadata": {
    "id": "7UCm04bExIcX"
   },
   "source": [
    "<div dir = \"rtl\" style=\"direction:rtl;line-height:300%;\">\n",
    "\t<font face=\"XB Zar\" size=5>\n",
    "  بازه صفر تا یک را از نقاط 0.05 و 0.1 و 0.5 و 0.9 و 0.95 به بازه های کوچکتر تقسیم کنید و تعداد p-value هایی که در هر کدام از بازه ها می‌افتند را محاسبه کنید.\n",
    "    </font>\n",
    "</div>"
   ]
  },
  {
   "cell_type": "code",
   "execution_count": 136,
   "id": "G4QpVPK-x9jy",
   "metadata": {
    "colab": {
     "base_uri": "https://localhost:8080/",
     "height": 69
    },
    "id": "G4QpVPK-x9jy",
    "outputId": "c3b72885-ac61-4848-9b1a-8be36a0e8a45"
   },
   "outputs": [
    {
     "data": {
      "text/html": [
       "0"
      ],
      "text/latex": [
       "0"
      ],
      "text/markdown": [
       "0"
      ],
      "text/plain": [
       "[1] 0"
      ]
     },
     "metadata": {},
     "output_type": "display_data"
    },
    {
     "data": {
      "text/html": [
       "0"
      ],
      "text/latex": [
       "0"
      ],
      "text/markdown": [
       "0"
      ],
      "text/plain": [
       "[1] 0"
      ]
     },
     "metadata": {},
     "output_type": "display_data"
    },
    {
     "data": {
      "text/html": [
       "0"
      ],
      "text/latex": [
       "0"
      ],
      "text/markdown": [
       "0"
      ],
      "text/plain": [
       "[1] 0"
      ]
     },
     "metadata": {},
     "output_type": "display_data"
    },
    {
     "data": {
      "text/html": [
       "178"
      ],
      "text/latex": [
       "178"
      ],
      "text/markdown": [
       "178"
      ],
      "text/plain": [
       "[1] 178"
      ]
     },
     "metadata": {},
     "output_type": "display_data"
    },
    {
     "data": {
      "text/html": [
       "822"
      ],
      "text/latex": [
       "822"
      ],
      "text/markdown": [
       "822"
      ],
      "text/plain": [
       "[1] 822"
      ]
     },
     "metadata": {},
     "output_type": "display_data"
    },
    {
     "data": {
      "text/html": [
       "0"
      ],
      "text/latex": [
       "0"
      ],
      "text/markdown": [
       "0"
      ],
      "text/plain": [
       "[1] 0"
      ]
     },
     "metadata": {},
     "output_type": "display_data"
    }
   ],
   "source": [
    "length(pvalues[pvalues<0.05])\n",
    "length(pvalues[pvalues>=0.05 & pvalues<0.1])\n",
    "length(pvalues[pvalues>=0.1 & pvalues<0.5])\n",
    "length(pvalues[pvalues>=0.5 & pvalues<0.9])\n",
    "length(pvalues[pvalues>=0.9 & pvalues<0.95])\n",
    "length(pvalues[pvalues>0.95])"
   ]
  },
  {
   "cell_type": "markdown",
   "id": "rOx908Krx-lB",
   "metadata": {
    "id": "rOx908Krx-lB"
   },
   "source": [
    "<div dir = \"rtl\" style=\"direction:rtl;line-height:300%;\">\n",
    "\t<font face=\"XB Zar\" size=5>\n",
    "  اگر انحراف معیار دو دسته را عوض کنیم نتایج چه تغییری خواهند کرد؟ \n",
    "  <br>\n",
    "  با توجه به نتایج به دست آمده توضیح دهید که اگر از آزمون جایگشت برای مقایسه میانگین ها استفاده کنیم با چه مشکلاتی مواجه خواهیم شد؟\n",
    "      </font>\n",
    "</div>"
   ]
  },
  {
   "cell_type": "markdown",
   "id": "HnN8bs5Z1t5q",
   "metadata": {
    "id": "HnN8bs5Z1t5q"
   },
   "source": [
    "<div dir = \"rtl\" style=\"direction:rtl;line-height:300%;\">\n",
    "\t<font face=\"XB Zar\" size=5 color=\"blue\">\n",
    "        با افزایش انحراف معیار احتمال اشتباه تست نیز بیشتر میشود و همانطور که دیدیم پی ولیو های به دست آمده خیلی بزرگ هستند که یعنی نمیتوان از آنها اطلاعات مفیدی به دست آورد در ضمن حتی اگر پی ولیو ها را یک طرفه حساب کنیم باز هم از مقدار 0.05 خیلی بزرگ تر است\n",
    "    </font>\n",
    "</div>"
   ]
  }
 ],
 "metadata": {
  "colab": {
   "provenance": []
  },
  "kernelspec": {
   "display_name": "R",
   "language": "R",
   "name": "ir"
  },
  "language_info": {
   "codemirror_mode": "r",
   "file_extension": ".r",
   "mimetype": "text/x-r-source",
   "name": "R",
   "pygments_lexer": "r",
   "version": "4.2.2"
  }
 },
 "nbformat": 4,
 "nbformat_minor": 5
}
